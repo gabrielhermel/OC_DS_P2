{
 "cells": [
  {
   "cell_type": "code",
   "execution_count": 3,
   "id": "aa185e25",
   "metadata": {},
   "outputs": [],
   "source": [
    "import pandas as pd\n",
    "import numpy as np\n",
    "import matplotlib.pyplot as plt"
   ]
  }
 ],
 "metadata": {
  "kernelspec": {
   "display_name": "Python 3.8.10 ('venv': venv)",
   "language": "python",
   "name": "python3"
  },
  "language_info": {
   "codemirror_mode": {
    "name": "ipython",
    "version": 3
   },
   "file_extension": ".py",
   "mimetype": "text/x-python",
   "name": "python",
   "nbconvert_exporter": "python",
   "pygments_lexer": "ipython3",
   "version": "3.8.10"
  },
  "vscode": {
   "interpreter": {
    "hash": "53081a0366dff5eea8a4d6198d6f1c4333ac36800a28d18d2411aed2c310a38a"
   }
  }
 },
 "nbformat": 4,
 "nbformat_minor": 5
}
