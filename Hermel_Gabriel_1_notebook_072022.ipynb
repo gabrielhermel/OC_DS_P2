{
 "cells": [
  {
   "cell_type": "markdown",
   "id": "e89d3259",
   "metadata": {},
   "source": [
    "# Projet 2 : Analysez des données de systèmes éducatifs"
   ]
  },
  {
   "cell_type": "markdown",
   "id": "bef26b84",
   "metadata": {},
   "source": [
    "## Sommaire\n",
    "* [Exploration des données](#exp_donnees)\n",
    "    * [Importation des bibliothèques](#import_bib)\n",
    "    * [Variable du tableau créée](#var_tab)\n",
    "    * [Obtention d'informations générales sur le jeu de données](#info_general)\n",
    "    * [Configuration du Pandas](#cfg_pandas)\n",
    "    * [Vérification des colonnes](#verif_col)\n",
    "    * [Vérification des données manquantes](#verif_don_manq)"
   ]
  },
  {
   "cell_type": "markdown",
   "id": "02f4d2c5",
   "metadata": {},
   "source": [
    "## Exploration des données <a class=\"anchor\" id=\"exp_donnees\"></a>"
   ]
  },
  {
   "cell_type": "markdown",
   "id": "79624c1a",
   "metadata": {},
   "source": [
    "### Importation des bibliothèques <a class=\"anchor\" id=\"import_bib\"></a>\n",
    "Les bibliothèques nécessaires pour les traitements sont importées et se voient attribuer des alias."
   ]
  },
  {
   "cell_type": "code",
   "execution_count": 1,
   "id": "aa185e25",
   "metadata": {},
   "outputs": [],
   "source": [
    "import pandas as pd\n",
    "import numpy as np\n",
    "import matplotlib.pyplot as plt"
   ]
  },
  {
   "cell_type": "markdown",
   "id": "a057d327",
   "metadata": {},
   "source": [
    "### Variable du tableau créée <a class=\"anchor\" id=\"var_tab\"></a>\n",
    "Le fichier source CSV est lu dans un objet de tableau et les cinq premières colonnes sont affichées."
   ]
  },
  {
   "cell_type": "code",
   "execution_count": 2,
   "id": "d71e2e6b",
   "metadata": {},
   "outputs": [
    {
     "data": {
      "text/html": [
       "<div>\n",
       "<style scoped>\n",
       "    .dataframe tbody tr th:only-of-type {\n",
       "        vertical-align: middle;\n",
       "    }\n",
       "\n",
       "    .dataframe tbody tr th {\n",
       "        vertical-align: top;\n",
       "    }\n",
       "\n",
       "    .dataframe thead th {\n",
       "        text-align: right;\n",
       "    }\n",
       "</style>\n",
       "<table border=\"1\" class=\"dataframe\">\n",
       "  <thead>\n",
       "    <tr style=\"text-align: right;\">\n",
       "      <th></th>\n",
       "      <th>Country Name</th>\n",
       "      <th>Country Code</th>\n",
       "      <th>Indicator Name</th>\n",
       "      <th>Indicator Code</th>\n",
       "      <th>1970</th>\n",
       "      <th>1971</th>\n",
       "      <th>1972</th>\n",
       "      <th>1973</th>\n",
       "      <th>1974</th>\n",
       "      <th>1975</th>\n",
       "      <th>...</th>\n",
       "      <th>2060</th>\n",
       "      <th>2065</th>\n",
       "      <th>2070</th>\n",
       "      <th>2075</th>\n",
       "      <th>2080</th>\n",
       "      <th>2085</th>\n",
       "      <th>2090</th>\n",
       "      <th>2095</th>\n",
       "      <th>2100</th>\n",
       "      <th>Unnamed: 69</th>\n",
       "    </tr>\n",
       "  </thead>\n",
       "  <tbody>\n",
       "    <tr>\n",
       "      <th>0</th>\n",
       "      <td>Arab World</td>\n",
       "      <td>ARB</td>\n",
       "      <td>Adjusted net enrolment rate, lower secondary, ...</td>\n",
       "      <td>UIS.NERA.2</td>\n",
       "      <td>NaN</td>\n",
       "      <td>NaN</td>\n",
       "      <td>NaN</td>\n",
       "      <td>NaN</td>\n",
       "      <td>NaN</td>\n",
       "      <td>NaN</td>\n",
       "      <td>...</td>\n",
       "      <td>NaN</td>\n",
       "      <td>NaN</td>\n",
       "      <td>NaN</td>\n",
       "      <td>NaN</td>\n",
       "      <td>NaN</td>\n",
       "      <td>NaN</td>\n",
       "      <td>NaN</td>\n",
       "      <td>NaN</td>\n",
       "      <td>NaN</td>\n",
       "      <td>NaN</td>\n",
       "    </tr>\n",
       "    <tr>\n",
       "      <th>1</th>\n",
       "      <td>Arab World</td>\n",
       "      <td>ARB</td>\n",
       "      <td>Adjusted net enrolment rate, lower secondary, ...</td>\n",
       "      <td>UIS.NERA.2.F</td>\n",
       "      <td>NaN</td>\n",
       "      <td>NaN</td>\n",
       "      <td>NaN</td>\n",
       "      <td>NaN</td>\n",
       "      <td>NaN</td>\n",
       "      <td>NaN</td>\n",
       "      <td>...</td>\n",
       "      <td>NaN</td>\n",
       "      <td>NaN</td>\n",
       "      <td>NaN</td>\n",
       "      <td>NaN</td>\n",
       "      <td>NaN</td>\n",
       "      <td>NaN</td>\n",
       "      <td>NaN</td>\n",
       "      <td>NaN</td>\n",
       "      <td>NaN</td>\n",
       "      <td>NaN</td>\n",
       "    </tr>\n",
       "    <tr>\n",
       "      <th>2</th>\n",
       "      <td>Arab World</td>\n",
       "      <td>ARB</td>\n",
       "      <td>Adjusted net enrolment rate, lower secondary, ...</td>\n",
       "      <td>UIS.NERA.2.GPI</td>\n",
       "      <td>NaN</td>\n",
       "      <td>NaN</td>\n",
       "      <td>NaN</td>\n",
       "      <td>NaN</td>\n",
       "      <td>NaN</td>\n",
       "      <td>NaN</td>\n",
       "      <td>...</td>\n",
       "      <td>NaN</td>\n",
       "      <td>NaN</td>\n",
       "      <td>NaN</td>\n",
       "      <td>NaN</td>\n",
       "      <td>NaN</td>\n",
       "      <td>NaN</td>\n",
       "      <td>NaN</td>\n",
       "      <td>NaN</td>\n",
       "      <td>NaN</td>\n",
       "      <td>NaN</td>\n",
       "    </tr>\n",
       "    <tr>\n",
       "      <th>3</th>\n",
       "      <td>Arab World</td>\n",
       "      <td>ARB</td>\n",
       "      <td>Adjusted net enrolment rate, lower secondary, ...</td>\n",
       "      <td>UIS.NERA.2.M</td>\n",
       "      <td>NaN</td>\n",
       "      <td>NaN</td>\n",
       "      <td>NaN</td>\n",
       "      <td>NaN</td>\n",
       "      <td>NaN</td>\n",
       "      <td>NaN</td>\n",
       "      <td>...</td>\n",
       "      <td>NaN</td>\n",
       "      <td>NaN</td>\n",
       "      <td>NaN</td>\n",
       "      <td>NaN</td>\n",
       "      <td>NaN</td>\n",
       "      <td>NaN</td>\n",
       "      <td>NaN</td>\n",
       "      <td>NaN</td>\n",
       "      <td>NaN</td>\n",
       "      <td>NaN</td>\n",
       "    </tr>\n",
       "    <tr>\n",
       "      <th>4</th>\n",
       "      <td>Arab World</td>\n",
       "      <td>ARB</td>\n",
       "      <td>Adjusted net enrolment rate, primary, both sex...</td>\n",
       "      <td>SE.PRM.TENR</td>\n",
       "      <td>54.822121</td>\n",
       "      <td>54.894138</td>\n",
       "      <td>56.209438</td>\n",
       "      <td>57.267109</td>\n",
       "      <td>57.991138</td>\n",
       "      <td>59.36554</td>\n",
       "      <td>...</td>\n",
       "      <td>NaN</td>\n",
       "      <td>NaN</td>\n",
       "      <td>NaN</td>\n",
       "      <td>NaN</td>\n",
       "      <td>NaN</td>\n",
       "      <td>NaN</td>\n",
       "      <td>NaN</td>\n",
       "      <td>NaN</td>\n",
       "      <td>NaN</td>\n",
       "      <td>NaN</td>\n",
       "    </tr>\n",
       "  </tbody>\n",
       "</table>\n",
       "<p>5 rows × 70 columns</p>\n",
       "</div>"
      ],
      "text/plain": [
       "  Country Name Country Code  \\\n",
       "0   Arab World          ARB   \n",
       "1   Arab World          ARB   \n",
       "2   Arab World          ARB   \n",
       "3   Arab World          ARB   \n",
       "4   Arab World          ARB   \n",
       "\n",
       "                                      Indicator Name  Indicator Code  \\\n",
       "0  Adjusted net enrolment rate, lower secondary, ...      UIS.NERA.2   \n",
       "1  Adjusted net enrolment rate, lower secondary, ...    UIS.NERA.2.F   \n",
       "2  Adjusted net enrolment rate, lower secondary, ...  UIS.NERA.2.GPI   \n",
       "3  Adjusted net enrolment rate, lower secondary, ...    UIS.NERA.2.M   \n",
       "4  Adjusted net enrolment rate, primary, both sex...     SE.PRM.TENR   \n",
       "\n",
       "        1970       1971       1972       1973       1974      1975  ...  2060  \\\n",
       "0        NaN        NaN        NaN        NaN        NaN       NaN  ...   NaN   \n",
       "1        NaN        NaN        NaN        NaN        NaN       NaN  ...   NaN   \n",
       "2        NaN        NaN        NaN        NaN        NaN       NaN  ...   NaN   \n",
       "3        NaN        NaN        NaN        NaN        NaN       NaN  ...   NaN   \n",
       "4  54.822121  54.894138  56.209438  57.267109  57.991138  59.36554  ...   NaN   \n",
       "\n",
       "   2065  2070  2075  2080  2085  2090  2095  2100  Unnamed: 69  \n",
       "0   NaN   NaN   NaN   NaN   NaN   NaN   NaN   NaN          NaN  \n",
       "1   NaN   NaN   NaN   NaN   NaN   NaN   NaN   NaN          NaN  \n",
       "2   NaN   NaN   NaN   NaN   NaN   NaN   NaN   NaN          NaN  \n",
       "3   NaN   NaN   NaN   NaN   NaN   NaN   NaN   NaN          NaN  \n",
       "4   NaN   NaN   NaN   NaN   NaN   NaN   NaN   NaN          NaN  \n",
       "\n",
       "[5 rows x 70 columns]"
      ]
     },
     "execution_count": 2,
     "metadata": {},
     "output_type": "execute_result"
    }
   ],
   "source": [
    "edstats = pd.read_csv('Edstats_csv/EdStatsData.csv')\n",
    "edstats.head()"
   ]
  },
  {
   "cell_type": "markdown",
   "id": "b93bf027",
   "metadata": {},
   "source": [
    "### Obtention d'informations générales sur le jeu de données <a class=\"anchor\" id=\"info_general\"></a>\n",
    "- Le nombre de lignes et de colonnes est imprimé.\n",
    "- Une méthode est appelée qui produit des informations de base sur le tableau, y compris le nombre d'entrées dans chaque colonne et leurs types de données."
   ]
  },
  {
   "cell_type": "code",
   "execution_count": 3,
   "id": "99d48538",
   "metadata": {},
   "outputs": [
    {
     "data": {
      "text/plain": [
       "(886930, 70)"
      ]
     },
     "execution_count": 3,
     "metadata": {},
     "output_type": "execute_result"
    }
   ],
   "source": [
    "edstats.shape"
   ]
  },
  {
   "cell_type": "code",
   "execution_count": 4,
   "id": "8382be1c",
   "metadata": {},
   "outputs": [
    {
     "name": "stdout",
     "output_type": "stream",
     "text": [
      "<class 'pandas.core.frame.DataFrame'>\n",
      "RangeIndex: 886930 entries, 0 to 886929\n",
      "Data columns (total 70 columns):\n",
      " #   Column          Non-Null Count   Dtype  \n",
      "---  ------          --------------   -----  \n",
      " 0   Country Name    886930 non-null  object \n",
      " 1   Country Code    886930 non-null  object \n",
      " 2   Indicator Name  886930 non-null  object \n",
      " 3   Indicator Code  886930 non-null  object \n",
      " 4   1970            72288 non-null   float64\n",
      " 5   1971            35537 non-null   float64\n",
      " 6   1972            35619 non-null   float64\n",
      " 7   1973            35545 non-null   float64\n",
      " 8   1974            35730 non-null   float64\n",
      " 9   1975            87306 non-null   float64\n",
      " 10  1976            37483 non-null   float64\n",
      " 11  1977            37574 non-null   float64\n",
      " 12  1978            37576 non-null   float64\n",
      " 13  1979            36809 non-null   float64\n",
      " 14  1980            89122 non-null   float64\n",
      " 15  1981            38777 non-null   float64\n",
      " 16  1982            37511 non-null   float64\n",
      " 17  1983            38460 non-null   float64\n",
      " 18  1984            38606 non-null   float64\n",
      " 19  1985            90296 non-null   float64\n",
      " 20  1986            39372 non-null   float64\n",
      " 21  1987            38641 non-null   float64\n",
      " 22  1988            38552 non-null   float64\n",
      " 23  1989            37540 non-null   float64\n",
      " 24  1990            124405 non-null  float64\n",
      " 25  1991            74437 non-null   float64\n",
      " 26  1992            75543 non-null   float64\n",
      " 27  1993            75793 non-null   float64\n",
      " 28  1994            77462 non-null   float64\n",
      " 29  1995            131361 non-null  float64\n",
      " 30  1996            76807 non-null   float64\n",
      " 31  1997            73453 non-null   float64\n",
      " 32  1998            84914 non-null   float64\n",
      " 33  1999            118839 non-null  float64\n",
      " 34  2000            176676 non-null  float64\n",
      " 35  2001            123509 non-null  float64\n",
      " 36  2002            124205 non-null  float64\n",
      " 37  2003            130363 non-null  float64\n",
      " 38  2004            128814 non-null  float64\n",
      " 39  2005            184108 non-null  float64\n",
      " 40  2006            140312 non-null  float64\n",
      " 41  2007            137272 non-null  float64\n",
      " 42  2008            134387 non-null  float64\n",
      " 43  2009            142108 non-null  float64\n",
      " 44  2010            242442 non-null  float64\n",
      " 45  2011            146012 non-null  float64\n",
      " 46  2012            147264 non-null  float64\n",
      " 47  2013            137509 non-null  float64\n",
      " 48  2014            113789 non-null  float64\n",
      " 49  2015            131058 non-null  float64\n",
      " 50  2016            16460 non-null   float64\n",
      " 51  2017            143 non-null     float64\n",
      " 52  2020            51436 non-null   float64\n",
      " 53  2025            51436 non-null   float64\n",
      " 54  2030            51436 non-null   float64\n",
      " 55  2035            51436 non-null   float64\n",
      " 56  2040            51436 non-null   float64\n",
      " 57  2045            51436 non-null   float64\n",
      " 58  2050            51436 non-null   float64\n",
      " 59  2055            51436 non-null   float64\n",
      " 60  2060            51436 non-null   float64\n",
      " 61  2065            51436 non-null   float64\n",
      " 62  2070            51436 non-null   float64\n",
      " 63  2075            51436 non-null   float64\n",
      " 64  2080            51436 non-null   float64\n",
      " 65  2085            51436 non-null   float64\n",
      " 66  2090            51436 non-null   float64\n",
      " 67  2095            51436 non-null   float64\n",
      " 68  2100            51436 non-null   float64\n",
      " 69  Unnamed: 69     0 non-null       float64\n",
      "dtypes: float64(66), object(4)\n",
      "memory usage: 473.7+ MB\n"
     ]
    }
   ],
   "source": [
    "edstats.info()"
   ]
  },
  {
   "cell_type": "markdown",
   "id": "dd5080bd",
   "metadata": {},
   "source": [
    "### Configuration du Pandas <a class=\"anchor\" id=\"cfg_pandas\"></a>\n",
    "- Par défaut, Pandas affiche un maximum de 20 colonnes, mais le jeu de données à manipuler en contient 70, la limite de colonne est donc supprimée.\n",
    "- Pour permettre la sortie complète d'une opération de somme ultérieure, le nombre maximum de lignes à afficher est défini sur le nombre de colonnes."
   ]
  },
  {
   "cell_type": "code",
   "execution_count": 5,
   "id": "bde49bb0",
   "metadata": {},
   "outputs": [],
   "source": [
    "pd.set_option('display.max_columns', None)\n",
    "pd.set_option('display.max_rows', 70)"
   ]
  },
  {
   "cell_type": "markdown",
   "id": "6bec69a6",
   "metadata": {},
   "source": [
    "### Vérification des colonnes <a class=\"anchor\" id=\"verif_col\"></a>\n",
    "Les noms des colonnes sont affichés."
   ]
  },
  {
   "cell_type": "code",
   "execution_count": 6,
   "id": "4d8a5534",
   "metadata": {},
   "outputs": [
    {
     "data": {
      "text/plain": [
       "Index(['Country Name', 'Country Code', 'Indicator Name', 'Indicator Code',\n",
       "       '1970', '1971', '1972', '1973', '1974', '1975', '1976', '1977', '1978',\n",
       "       '1979', '1980', '1981', '1982', '1983', '1984', '1985', '1986', '1987',\n",
       "       '1988', '1989', '1990', '1991', '1992', '1993', '1994', '1995', '1996',\n",
       "       '1997', '1998', '1999', '2000', '2001', '2002', '2003', '2004', '2005',\n",
       "       '2006', '2007', '2008', '2009', '2010', '2011', '2012', '2013', '2014',\n",
       "       '2015', '2016', '2017', '2020', '2025', '2030', '2035', '2040', '2045',\n",
       "       '2050', '2055', '2060', '2065', '2070', '2075', '2080', '2085', '2090',\n",
       "       '2095', '2100', 'Unnamed: 69'],\n",
       "      dtype='object')"
      ]
     },
     "execution_count": 6,
     "metadata": {},
     "output_type": "execute_result"
    }
   ],
   "source": [
    "edstats.columns"
   ]
  },
  {
   "cell_type": "markdown",
   "id": "0b378059",
   "metadata": {},
   "source": [
    "Les séparateurs de fin de ligne dans le fichier CSV ont créé une colonne superflue, celle-ci est supprimée."
   ]
  },
  {
   "cell_type": "code",
   "execution_count": 7,
   "id": "7fc3709e",
   "metadata": {},
   "outputs": [
    {
     "data": {
      "text/plain": [
       "Index(['Country Name', 'Country Code', 'Indicator Name', 'Indicator Code',\n",
       "       '1970', '1971', '1972', '1973', '1974', '1975', '1976', '1977', '1978',\n",
       "       '1979', '1980', '1981', '1982', '1983', '1984', '1985', '1986', '1987',\n",
       "       '1988', '1989', '1990', '1991', '1992', '1993', '1994', '1995', '1996',\n",
       "       '1997', '1998', '1999', '2000', '2001', '2002', '2003', '2004', '2005',\n",
       "       '2006', '2007', '2008', '2009', '2010', '2011', '2012', '2013', '2014',\n",
       "       '2015', '2016', '2017', '2020', '2025', '2030', '2035', '2040', '2045',\n",
       "       '2050', '2055', '2060', '2065', '2070', '2075', '2080', '2085', '2090',\n",
       "       '2095', '2100'],\n",
       "      dtype='object')"
      ]
     },
     "execution_count": 7,
     "metadata": {},
     "output_type": "execute_result"
    }
   ],
   "source": [
    "edstats = edstats.drop(\"Unnamed: 69\", axis=1)\n",
    "edstats.columns"
   ]
  },
  {
   "cell_type": "markdown",
   "id": "2beef096",
   "metadata": {},
   "source": [
    "### Vérification des données manquantes <a class=\"anchor\" id=\"verif_don_manq\"></a>\n",
    "* Percentage of missing values for each column:\n",
    "    * The first part of the following command `edstats.isna()` takes the edstats object and produces a boolean table of the same dimensions with 'False' if there is data in the corresponding cell, and 'True' if there is none.\n",
    "    * The second part of the command `.sum()` outputs a list of key-value pairs with the names of each column and the total number of missing values in each column.\n",
    "    * The third part `/ len(edstats) * 100` divides the number of missing values in each column by the total number of rows and multiplying by 100, thus giving a percentage of missing values for each column."
   ]
  },
  {
   "cell_type": "code",
   "execution_count": 12,
   "id": "02c6ef24",
   "metadata": {},
   "outputs": [
    {
     "data": {
      "text/plain": [
       "Country Name       0.000000\n",
       "Country Code       0.000000\n",
       "Indicator Name     0.000000\n",
       "Indicator Code     0.000000\n",
       "1970              91.849639\n",
       "1971              95.993258\n",
       "1972              95.984012\n",
       "1973              95.992356\n",
       "1974              95.971497\n",
       "1975              90.156382\n",
       "1976              95.773849\n",
       "1977              95.763589\n",
       "1978              95.763364\n",
       "1979              95.849842\n",
       "1980              89.951631\n",
       "1981              95.627953\n",
       "1982              95.770692\n",
       "1983              95.663694\n",
       "1984              95.647233\n",
       "1985              89.819264\n",
       "1986              95.560867\n",
       "1987              95.643286\n",
       "1988              95.653321\n",
       "1989              95.767422\n",
       "1990              85.973527\n",
       "1991              91.607342\n",
       "1992              91.482642\n",
       "1993              91.454455\n",
       "1994              91.266278\n",
       "1995              85.189248\n",
       "1996              91.340128\n",
       "1997              91.718287\n",
       "1998              90.426076\n",
       "1999              86.601085\n",
       "2000              80.080051\n",
       "2001              86.074549\n",
       "2002              85.996076\n",
       "2003              85.301771\n",
       "2004              85.476419\n",
       "2005              79.242105\n",
       "2006              84.180037\n",
       "2007              84.522792\n",
       "2008              84.848071\n",
       "2009              83.977541\n",
       "2010              72.665036\n",
       "2011              83.537370\n",
       "2012              83.396209\n",
       "2013              84.496071\n",
       "2014              87.170464\n",
       "2015              85.223411\n",
       "2016              98.144160\n",
       "2017              99.983877\n",
       "2020              94.200670\n",
       "2025              94.200670\n",
       "2030              94.200670\n",
       "2035              94.200670\n",
       "2040              94.200670\n",
       "2045              94.200670\n",
       "2050              94.200670\n",
       "2055              94.200670\n",
       "2060              94.200670\n",
       "2065              94.200670\n",
       "2070              94.200670\n",
       "2075              94.200670\n",
       "2080              94.200670\n",
       "2085              94.200670\n",
       "2090              94.200670\n",
       "2095              94.200670\n",
       "2100              94.200670\n",
       "dtype: float64"
      ]
     },
     "execution_count": 12,
     "metadata": {},
     "output_type": "execute_result"
    }
   ],
   "source": [
    "edstats.isna().sum() / len(edstats) * 100"
   ]
  }
 ],
 "metadata": {
  "kernelspec": {
   "display_name": "Python 3.8.10 ('venv': venv)",
   "language": "python",
   "name": "python3"
  },
  "language_info": {
   "codemirror_mode": {
    "name": "ipython",
    "version": 3
   },
   "file_extension": ".py",
   "mimetype": "text/x-python",
   "name": "python",
   "nbconvert_exporter": "python",
   "pygments_lexer": "ipython3",
   "version": "3.8.10"
  },
  "vscode": {
   "interpreter": {
    "hash": "53081a0366dff5eea8a4d6198d6f1c4333ac36800a28d18d2411aed2c310a38a"
   }
  }
 },
 "nbformat": 4,
 "nbformat_minor": 5
}
